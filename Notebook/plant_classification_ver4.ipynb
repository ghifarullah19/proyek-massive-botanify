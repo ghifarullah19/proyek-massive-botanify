{
 "cells": [
  {
   "cell_type": "code",
   "execution_count": null,
   "metadata": {
    "ExecuteTime": {
     "end_time": "2024-05-22T13:58:15.188457Z",
     "start_time": "2024-05-22T13:58:05.598575Z"
    }
   },
   "outputs": [],
   "source": [
    "# %pip install split-folders"
   ]
  },
  {
   "cell_type": "code",
   "execution_count": null,
   "metadata": {
    "ExecuteTime": {
     "end_time": "2024-05-22T13:56:43.238087Z",
     "start_time": "2024-05-22T13:56:38.166931Z"
    }
   },
   "outputs": [],
   "source": [
    "import numpy as np\n",
    "import tensorflow as tf\n",
    "import os\n",
    "from splitfolders import ratio\n",
    "from tensorflow.keras.layers import Conv2D, MaxPooling2D, Flatten, Dense\n",
    "from tensorflow.keras.models import Sequential\n",
    "from tensorflow.keras.optimizers import Adam\n",
    "from tensorflow.keras.preprocessing import image\n",
    "from tensorflow.keras.preprocessing.image import ImageDataGenerator\n",
    "import matplotlib.pyplot as plt\n",
    "import matplotlib.image as mpimg\n",
    "%matplotlib inline"
   ]
  },
  {
   "cell_type": "code",
   "execution_count": null,
   "metadata": {
    "ExecuteTime": {
     "end_time": "2024-05-22T14:13:28.346860Z",
     "start_time": "2024-05-22T14:13:28.338108Z"
    }
   },
   "outputs": [],
   "source": [
    "base_plant = \"..\\\\tmp\\plant-cv-images\"\n",
    "\n",
    "ratio('D:\\Dataset\\Tanaman\\Versi 4\\\\Botanify\\\\dataset', output='..\\\\tmp\\plant-cv-images', seed=1337, ratio=(.6, .4))\n",
    "train_dir_plant = os.path.join(base_plant, 'train')\n",
    "val_dir_plant = os.path.join(base_plant, 'val')"
   ]
  },
  {
   "cell_type": "code",
   "execution_count": null,
   "metadata": {
    "ExecuteTime": {
     "end_time": "2024-05-22T14:13:30.776570Z",
     "start_time": "2024-05-22T14:13:30.755092Z"
    }
   },
   "outputs": [],
   "source": [
    "os.listdir( train_dir_plant)"
   ]
  },
  {
   "cell_type": "code",
   "execution_count": null,
   "metadata": {
    "ExecuteTime": {
     "end_time": "2024-05-22T14:13:33.840373Z",
     "start_time": "2024-05-22T14:13:33.816987Z"
    }
   },
   "outputs": [],
   "source": [
    "os.listdir(val_dir_plant)"
   ]
  },
  {
   "cell_type": "code",
   "execution_count": null,
   "metadata": {
    "ExecuteTime": {
     "end_time": "2024-05-22T14:01:15.677672Z",
     "start_time": "2024-05-22T14:01:15.671461Z"
    }
   },
   "outputs": [],
   "source": [
    "train_plant_datagen = ImageDataGenerator(\n",
    "  rescale=1./255,\n",
    "  rotation_range=20,\n",
    "  horizontal_flip=True,\n",
    "  shear_range=0.2,\n",
    "  fill_mode='nearest'\n",
    ")\n",
    "\n",
    "test_plant_datagen = ImageDataGenerator(\n",
    "  rescale=1./255\n",
    ")"
   ]
  },
  {
   "cell_type": "code",
   "execution_count": null,
   "metadata": {
    "ExecuteTime": {
     "end_time": "2024-05-22T14:13:40.761819Z",
     "start_time": "2024-05-22T14:13:39.865171Z"
    }
   },
   "outputs": [],
   "source": [
    "train_plant_generator = train_plant_datagen.flow_from_directory(\n",
    "  train_dir_plant,\n",
    "  target_size=(224, 224),\n",
    "  batch_size=32,\n",
    "  class_mode='categorical'\n",
    ")\n",
    "\n",
    "validation_plant_generator = test_plant_datagen.flow_from_directory(\n",
    "  val_dir_plant,\n",
    "  target_size=(224, 224),\n",
    "  batch_size=32,\n",
    "  class_mode='categorical'\n",
    ")"
   ]
  },
  {
   "cell_type": "code",
   "execution_count": null,
   "metadata": {
    "ExecuteTime": {
     "end_time": "2024-05-22T14:13:43.925039Z",
     "start_time": "2024-05-22T14:13:43.618400Z"
    }
   },
   "outputs": [],
   "source": [
    "# 1st model\n",
    "# model = Sequential([\n",
    "#     ZeroPadding2D(padding=(2,2), input_shape=(150, 150, 3)),\n",
    "#     Conv2D(16, (5,5), strides=(3, 3), activation='relu'),\n",
    "#     MaxPooling2D(2, 2),\n",
    "#     Conv2D(32, (3, 3), strides=(1, 1), activation='relu'),\n",
    "#     ZeroPadding2D(padding=(1,1)),\n",
    "#     Conv2D(64, (3, 3), strides=(1, 1), activation='relu'),\n",
    "#     Flatten(),\n",
    "#     Dense(256, activation='relu'),\n",
    "#     Dropout(0.5),\n",
    "#     Dense(29, activation='softmax')\n",
    "# ])"
   ]
  },
  {
   "cell_type": "code",
   "execution_count": null,
   "metadata": {},
   "outputs": [],
   "source": [
    "# 2nd model\n",
    "model = Sequential([\n",
    "    Conv2D(96, (11, 11), strides=(4, 4), activation='relu', input_shape=(224, 224, 3)),\n",
    "    MaxPooling2D((3, 3), strides=(2, 2)),\n",
    "    Conv2D(256, (5, 5), padding='same', activation='relu'),\n",
    "    MaxPooling2D((3, 3), strides=(2, 2)),\n",
    "    Conv2D(384, (3, 3), padding='same', activation='relu'),\n",
    "    Conv2D(384, (3, 3), padding='same', activation='relu'),\n",
    "    Conv2D(256, (3, 3), padding='same', activation='relu'),\n",
    "    MaxPooling2D((3, 3), strides=(2, 2)),\n",
    "    Flatten(),\n",
    "    Dense(4096, activation='relu'),\n",
    "    Dense(4096, activation='relu'),\n",
    "    Dense(29, activation='softmax')\n",
    "])"
   ]
  },
  {
   "cell_type": "code",
   "execution_count": null,
   "metadata": {
    "ExecuteTime": {
     "end_time": "2024-05-22T14:13:46.742664Z",
     "start_time": "2024-05-22T14:13:46.718657Z"
    }
   },
   "outputs": [],
   "source": [
    "# compile model dengan 'adam' optimizer loss function 'categorical_crossentropy' \n",
    "model.compile(loss='categorical_crossentropy',\n",
    "              optimizer=Adam(0.0001),\n",
    "              metrics=['accuracy'])"
   ]
  },
  {
   "cell_type": "code",
   "execution_count": null,
   "metadata": {
    "ExecuteTime": {
     "end_time": "2024-05-22T14:05:42.163733Z",
     "start_time": "2024-05-22T14:05:42.091210Z"
    }
   },
   "outputs": [],
   "source": [
    "model.summary()"
   ]
  },
  {
   "cell_type": "code",
   "execution_count": null,
   "metadata": {
    "ExecuteTime": {
     "end_time": "2024-05-22T14:05:48.021211Z",
     "start_time": "2024-05-22T14:05:48.004800Z"
    }
   },
   "outputs": [],
   "source": [
    "class myCallback(tf.keras.callbacks.Callback):\n",
    "  def on_epoch_end(self, epoch, logs={}):\n",
    "    if(logs.get('accuracy') > 1.0) and (logs.get('val_a ccuracy') > 9.0):\n",
    "      print(\"\\nAkurasi telah mencapai > 100%!\")\n",
    "      self.model.stop_training = True\n",
    "\n",
    "callbacks = myCallback()"
   ]
  },
  {
   "cell_type": "code",
   "execution_count": null,
   "metadata": {
    "ExecuteTime": {
     "end_time": "2024-05-22T14:54:53.691123Z",
     "start_time": "2024-05-22T14:13:51.555911Z"
    }
   },
   "outputs": [],
   "source": [
    "history = model.fit(\n",
    "  train_plant_generator,\n",
    "  epochs=9,\n",
    "  validation_data=validation_plant_generator,\n",
    "  verbose=1,\n",
    "  callbacks=[callbacks]\n",
    ")"
   ]
  },
  {
   "cell_type": "code",
   "execution_count": null,
   "metadata": {},
   "outputs": [],
   "source": [
    "plt.plot(history.history['accuracy'], label='Training')\n",
    "plt.plot(history.history['val_accuracy'], label='Testing')\n",
    "plt.title('Model Accuracy')\n",
    "plt.ylabel('Accuracy')\n",
    "plt.xlabel('Epoch')\n",
    "plt.legend(loc='lower right')\n",
    "plt.show()"
   ]
  },
  {
   "cell_type": "code",
   "execution_count": null,
   "metadata": {},
   "outputs": [],
   "source": [
    "plt.plot(history.history['loss'], label='Training')\n",
    "plt.plot(history.history['val_loss'], label='Testing')\n",
    "plt.title('Model Loss')\n",
    "plt.ylabel('Loss')\n",
    "plt.xlabel('Epoch')\n",
    "plt.legend(loc='upper right')\n",
    "plt.show()"
   ]
  },
  {
   "cell_type": "code",
   "execution_count": null,
   "metadata": {},
   "outputs": [],
   "source": [
    "model.evaluate(validation_plant_generator, verbose=2)"
   ]
  },
  {
   "cell_type": "code",
   "execution_count": null,
   "metadata": {},
   "outputs": [],
   "source": [
    "class_name = os.listdir(val_dir_plant)\n",
    "class_name.sort()"
   ]
  },
  {
   "cell_type": "code",
   "execution_count": null,
   "metadata": {},
   "outputs": [],
   "source": [
    "test_folder = os.listdir('D:/Dataset/unseen/')\n",
    "\n",
    "score_result = {} \n",
    "\n",
    "total_score = 0\n",
    "total_data = 0\n",
    "\n",
    "for folder in test_folder:\n",
    "  score = 0\n",
    "  i = 0\n",
    "  plant = os.listdir(f'D:/Dataset/unseen/{folder}')\n",
    "\n",
    "  for uploaded in plant:\n",
    "    fn = f'D:/Dataset/unseen/{folder}/{uploaded}'\n",
    "    # predicting images\n",
    "    path = fn\n",
    "    img = image.load_img(path, target_size=(224,224))\n",
    "\n",
    "    # imgplot = plt.imshow(img)\n",
    "    x = image.img_to_array(img)\n",
    "    x = np.expand_dims(x, axis=0)\n",
    "    images = np.vstack([x])\n",
    "\n",
    "    classes = model.predict(images, batch_size=10)\n",
    "    out = np.argmax(classes)\n",
    "    # print(classes)\n",
    "    # print(class_name)\n",
    "    print(class_name[out])\n",
    "    if class_name[out] == folder:\n",
    "      score += 1\n",
    "    i += 1\n",
    "    total_data += 1\n",
    "\n",
    "  total_score += score\n",
    "  score_result[folder] = f'{score}/{i}'\n",
    "\n",
    "print(f\"Score Result: {score_result}\\n Total Score: {total_score}/{total_data} ({(total_score/total_data)*100}%)\")"
   ]
  }
 ],
 "metadata": {
  "kernelspec": {
   "display_name": "base",
   "language": "python",
   "name": "python3"
  },
  "language_info": {
   "codemirror_mode": {
    "name": "ipython",
    "version": 3
   },
   "file_extension": ".py",
   "mimetype": "text/x-python",
   "name": "python",
   "nbconvert_exporter": "python",
   "pygments_lexer": "ipython3",
   "version": "3.11.7"
  }
 },
 "nbformat": 4,
 "nbformat_minor": 2
}
